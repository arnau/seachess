{
 "cells": [
  {
   "cell_type": "markdown",
   "metadata": {},
   "source": [
    "# SQLite with Python (Basics)\n",
    "\n",
    "The standard Python distribution ships with a basic SQLite3 inteface."
   ]
  },
  {
   "cell_type": "markdown",
   "metadata": {},
   "source": [
    "## Connect to a database\n",
    "\n",
    "Import the `sqlite3` module, create a connection and open a cursor to operate on the database."
   ]
  },
  {
   "cell_type": "code",
   "execution_count": 1,
   "metadata": {},
   "outputs": [],
   "source": [
    "import sqlite3\n",
    "import os\n",
    "\n",
    "conn = sqlite3.connect(\"sqlite-python-basics.sqlite\")\n",
    "cur = conn.cursor()"
   ]
  },
  {
   "cell_type": "markdown",
   "metadata": {},
   "source": [
    "After using the database make sure you close the connection to avoid locking yourself out of the database."
   ]
  },
  {
   "cell_type": "code",
   "execution_count": 2,
   "metadata": {},
   "outputs": [],
   "source": [
    "conn.close()\n",
    "os.remove(\"sqlite-python-basics.sqlite\")"
   ]
  },
  {
   "cell_type": "markdown",
   "metadata": {},
   "source": [
    "## Create a database\n",
    "\n",
    "As soon as you connect to a database, if it doesn't exist it will create it."
   ]
  },
  {
   "cell_type": "code",
   "execution_count": 3,
   "metadata": {},
   "outputs": [],
   "source": [
    "conn = sqlite3.connect(\":memory:\")\n",
    "cur = conn.cursor()"
   ]
  },
  {
   "cell_type": "markdown",
   "metadata": {},
   "source": [
    "Let's create two tables representing an event log (`events`) and the project (`projects`) they belong to."
   ]
  },
  {
   "cell_type": "code",
   "execution_count": 4,
   "metadata": {},
   "outputs": [],
   "source": [
    "cur.execute(\"\"\"\n",
    "CREATE TABLE IF NOT EXISTS projects (\n",
    "    id INTEGER PRIMARY KEY,\n",
    "    created DATE NOT NULL,\n",
    "    name VARCHAR(50) NOT NULL UNIQUE\n",
    ")\n",
    "\"\"\")\n",
    "cur.execute(\"\"\"\n",
    "CREATE TABLE IF NOT EXISTS events (\n",
    "    id INTEGER PRIMARY KEY,\n",
    "    date DATE,\n",
    "    project_id INTEGER,\n",
    "    comments TEXT,\n",
    "    FOREIGN KEY (project_id) REFERENCES projects(id)\n",
    ")\n",
    "\"\"\");"
   ]
  },
  {
   "cell_type": "markdown",
   "metadata": {},
   "source": [
    "We can verify they exist by querying the `sqlite_master` table."
   ]
  },
  {
   "cell_type": "code",
   "execution_count": 5,
   "metadata": {},
   "outputs": [
    {
     "data": {
      "text/plain": [
       "[('projects',), ('events',)]"
      ]
     },
     "execution_count": 5,
     "metadata": {},
     "output_type": "execute_result"
    }
   ],
   "source": [
    "cur.execute(\"SELECT name FROM sqlite_master WHERE type='table'\")\n",
    "cur.fetchall()"
   ]
  },
  {
   "cell_type": "markdown",
   "metadata": {},
   "source": [
    "To add a column you use `ALTER TABLE`. Documentation: https://www.sqlite.org/lang_altertable.html"
   ]
  },
  {
   "cell_type": "code",
   "execution_count": 6,
   "metadata": {},
   "outputs": [],
   "source": [
    "cur.execute(\"ALTER TABLE events ADD COLUMN effort REAL\");"
   ]
  },
  {
   "cell_type": "markdown",
   "metadata": {},
   "source": [
    "Note: Check the [Helpers](#Helpers) section to avoid attempting to add a column that already exists."
   ]
  },
  {
   "cell_type": "markdown",
   "metadata": {},
   "source": [
    "## Operate on a database\n",
    "\n",
    "Documentation: https://www.sqlite.org/fullsql.html\n",
    "\n",
    "SQLite implements most of the SQL standard and extends it with a few optional features like [JSON](https://www.sqlite.org/json1.html).\n",
    "\n",
    "Most operations are done as part of a transaction and will be kept in a journal until they are commited with `conn.commit()`.  This means that if you insert a row into a table, you will not see it in a query until you commit it.\n",
    "\n",
    "Let's insert a couple of projects:"
   ]
  },
  {
   "cell_type": "code",
   "execution_count": 7,
   "metadata": {},
   "outputs": [],
   "source": [
    "cur.execute(\"INSERT INTO projects (created, name) VALUES (date('now'), 'project A')\");\n",
    "cur.execute(\"INSERT INTO projects (created, name) VALUES (date('now'), 'project B')\");"
   ]
  },
  {
   "cell_type": "code",
   "execution_count": 8,
   "metadata": {},
   "outputs": [
    {
     "data": {
      "text/plain": [
       "[(1, '2018-03-31', 'project A'), (2, '2018-03-31', 'project B')]"
      ]
     },
     "execution_count": 8,
     "metadata": {},
     "output_type": "execute_result"
    }
   ],
   "source": [
    "cur.execute(\"SELECT * FROM projects\")\n",
    "cur.fetchall()"
   ]
  },
  {
   "cell_type": "markdown",
   "metadata": {},
   "source": [
    "And a few events:"
   ]
  },
  {
   "cell_type": "code",
   "execution_count": 9,
   "metadata": {},
   "outputs": [],
   "source": [
    "events = [(\"2018-03-12\", 1, 1.5, \"A stuff\"),\n",
    "          (\"2018-03-13\", 1, 0.5, \"More A stuff\"),\n",
    "          (\"2018-03-13\", 2, 1.0, \"B stuff\")]\n",
    "for event in events:\n",
    "    cur.execute(\"INSERT INTO events (date, project_id, effort, comments) VALUES (?, ?, ?, ?)\", event)"
   ]
  },
  {
   "cell_type": "code",
   "execution_count": 10,
   "metadata": {},
   "outputs": [
    {
     "data": {
      "text/plain": [
       "[(1, '2018-03-12', 1, 'A stuff', 1.5),\n",
       " (2, '2018-03-13', 1, 'More A stuff', 0.5),\n",
       " (3, '2018-03-13', 2, 'B stuff', 1.0)]"
      ]
     },
     "execution_count": 10,
     "metadata": {},
     "output_type": "execute_result"
    }
   ],
   "source": [
    "cur.execute(\"SELECT * FROM events\")\n",
    "cur.fetchall()"
   ]
  },
  {
   "cell_type": "code",
   "execution_count": 11,
   "metadata": {},
   "outputs": [
    {
     "data": {
      "text/plain": [
       "[(1, '2018-03-12', 'project A', 1.5),\n",
       " (2, '2018-03-13', 'project A', 0.5),\n",
       " (3, '2018-03-13', 'project B', 1.0)]"
      ]
     },
     "execution_count": 11,
     "metadata": {},
     "output_type": "execute_result"
    }
   ],
   "source": [
    "cur.execute(\"\"\"\n",
    "SELECT e.id, e.date, p.name AS project, e.effort\n",
    "FROM events AS e\n",
    "INNER JOIN projects AS p ON e.project_id = p.id\n",
    "\"\"\")\n",
    "cur.fetchall()"
   ]
  },
  {
   "cell_type": "markdown",
   "metadata": {},
   "source": [
    "Let's insert a few more records, this time in CSV."
   ]
  },
  {
   "cell_type": "code",
   "execution_count": 12,
   "metadata": {},
   "outputs": [
    {
     "data": {
      "text/plain": [
       "[(1, '2018-03-12', 'project A', 1.5),\n",
       " (2, '2018-03-13', 'project A', 0.5),\n",
       " (3, '2018-03-13', 'project B', 1.0),\n",
       " (4, '2018-03-01', 'project A', 2.5),\n",
       " (5, '2018-03-01', 'project B', 6.0),\n",
       " (6, '2018-03-02', 'project B', 8.0),\n",
       " (7, '2018-03-03', 'project A', 7.5),\n",
       " (8, '2018-03-04', 'project A', 7.5),\n",
       " (9, '2018-03-05', 'project B', 2.0)]"
      ]
     },
     "execution_count": 12,
     "metadata": {},
     "output_type": "execute_result"
    }
   ],
   "source": [
    "import csv\n",
    "\n",
    "with open('events.csv', 'r') as events:\n",
    "    rows = [(r['date'], r['project_id'], r['comments'], r['effort']) for r in csv.DictReader(events)]\n",
    "    cur.executemany(\"\"\"\n",
    "    INSERT INTO events (date, project_id, comments, effort) VALUES (?, ?, ?, ?)\n",
    "    \"\"\", rows)\n",
    "    conn.commit()\n",
    "    \n",
    "cur.execute(\"\"\"\n",
    "SELECT e.id, e.date, p.name AS project, e.effort\n",
    "FROM events AS e\n",
    "INNER JOIN projects AS p ON e.project_id = p.id\n",
    "\"\"\")\n",
    "cur.fetchall()"
   ]
  },
  {
   "cell_type": "markdown",
   "metadata": {},
   "source": [
    "And let's change the name of project B to C:"
   ]
  },
  {
   "cell_type": "code",
   "execution_count": 13,
   "metadata": {},
   "outputs": [
    {
     "data": {
      "text/plain": [
       "[(1, '2018-03-31', 'project A'), (2, '2018-03-31', 'project C')]"
      ]
     },
     "execution_count": 13,
     "metadata": {},
     "output_type": "execute_result"
    }
   ],
   "source": [
    "cur.execute(\"UPDATE projects SET name = ('project C') WHERE id = 2\")\n",
    "cur.execute(\"SELECT * FROM projects\")\n",
    "cur.fetchall()"
   ]
  },
  {
   "cell_type": "markdown",
   "metadata": {},
   "source": [
    "## Indexes"
   ]
  },
  {
   "cell_type": "code",
   "execution_count": 14,
   "metadata": {},
   "outputs": [],
   "source": [
    "cur.execute(\"CREATE INDEX IF NOT EXISTS event_dates ON events (date)\");"
   ]
  },
  {
   "cell_type": "code",
   "execution_count": 15,
   "metadata": {},
   "outputs": [
    {
     "data": {
      "text/plain": [
       "[('2018-03-01', 6.0),\n",
       " ('2018-03-02', 8.0),\n",
       " ('2018-03-03', 7.5),\n",
       " ('2018-03-04', 7.5),\n",
       " ('2018-03-05', 2.0),\n",
       " ('2018-03-12', 1.5),\n",
       " ('2018-03-13', 1.0)]"
      ]
     },
     "execution_count": 15,
     "metadata": {},
     "output_type": "execute_result"
    }
   ],
   "source": [
    "cur.execute(\"SELECT date, effort FROM events GROUP BY date\")\n",
    "cur.fetchall()"
   ]
  },
  {
   "cell_type": "code",
   "execution_count": 16,
   "metadata": {},
   "outputs": [],
   "source": [
    "cur.execute(\"DROP INDEX IF EXISTS event_dates\");"
   ]
  },
  {
   "cell_type": "markdown",
   "metadata": {},
   "source": [
    "## Types\n",
    "\n",
    "Documentation: https://www.sqlite.org/datatype3.html\n",
    "\n",
    "* `NULL`. The value is a NULL value.\n",
    "* `INTEGER`. The value is a signed integer, stored in 1, 2, 3, 4, 6, or 8 bytes depending on the magnitude of the value.\n",
    "* `REAL`. The value is a floating point value, stored as an 8-byte IEEE floating point number.\n",
    "* `TEXT`. The value is a text string, stored using the database encoding (UTF-8, UTF-16BE or UTF-16LE).\n",
    "* `BLOB`. The value is a blob of data, stored exactly as it was input.\n",
    "\n",
    "SQLite does not have a separate Boolean storage class. Boolean values are stored as integers 0 and 1. It doesn't have a date or datetime type.  Instead, you use [date and time functions](https://www.sqlite.org/lang_datefunc.html) to store them as `TEXT`, `REAL` or `INTEGER`."
   ]
  },
  {
   "cell_type": "markdown",
   "metadata": {},
   "source": [
    "## Helpers"
   ]
  },
  {
   "cell_type": "markdown",
   "metadata": {},
   "source": [
    "To check for the table info, you can use the `PRAGMA` command. Documentation: http://www.sqlite.org/pragma.html#pragma_table_info\n",
    "\n",
    "The following function could be used instead of the `try/except` block back in the first example of altering the events table."
   ]
  },
  {
   "cell_type": "code",
   "execution_count": 17,
   "metadata": {},
   "outputs": [
    {
     "data": {
      "text/plain": [
       "True"
      ]
     },
     "execution_count": 17,
     "metadata": {},
     "output_type": "execute_result"
    }
   ],
   "source": [
    "def column_exists(table, column):\n",
    "    res = cur.execute(\"PRAGMA table_info({})\".format(table))\n",
    "    return len ([x for (_, x, _, _, _, _) in res if x == column]) != 0\n",
    "\n",
    "column_exists('events', 'effort')"
   ]
  },
  {
   "cell_type": "markdown",
   "metadata": {},
   "source": [
    "## SQLite references\n",
    "\n",
    "* [Core functions](https://www.sqlite.org/lang_corefunc.html)\n",
    "* [Aggregate functions](https://www.sqlite.org/lang_aggfunc.html)\n",
    "* [Date and Time functions](https://www.sqlite.org/lang_datefunc.html)"
   ]
  },
  {
   "cell_type": "markdown",
   "metadata": {},
   "source": [
    "## Disconnect from a database"
   ]
  },
  {
   "cell_type": "code",
   "execution_count": 18,
   "metadata": {},
   "outputs": [],
   "source": [
    "conn.commit()\n",
    "conn.close()"
   ]
  }
 ],
 "metadata": {
  "kernelspec": {
   "display_name": "Python 3",
   "language": "python",
   "name": "python3"
  },
  "language_info": {
   "codemirror_mode": {
    "name": "ipython",
    "version": 3
   },
   "file_extension": ".py",
   "mimetype": "text/x-python",
   "name": "python",
   "nbconvert_exporter": "python",
   "pygments_lexer": "ipython3",
   "version": "3.6.3"
  }
 },
 "nbformat": 4,
 "nbformat_minor": 2
}
